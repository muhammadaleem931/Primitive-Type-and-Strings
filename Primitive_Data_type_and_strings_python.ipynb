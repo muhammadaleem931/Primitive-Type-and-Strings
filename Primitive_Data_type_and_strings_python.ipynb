{
  "cells": [
    {
      "cell_type": "markdown",
      "metadata": {
        "id": "view-in-github",
        "colab_type": "text"
      },
      "source": [
        "<a href=\"https://colab.research.google.com/github/muhammadaleem931/Primitive-Type-and-Strings/blob/main/Primitive_Data_type_and_strings_python.ipynb\" target=\"_parent\"><img src=\"https://colab.research.google.com/assets/colab-badge.svg\" alt=\"Open In Colab\"/></a>"
      ]
    },
    {
      "cell_type": "markdown",
      "metadata": {
        "id": "lAkDdJLDleK2"
      },
      "source": [
        "# Note Book"
      ]
    },
    {
      "cell_type": "markdown",
      "metadata": {
        "id": "h5FU2auhleLF"
      },
      "source": [
        "# Interger\n",
        "prize = 1200\n",
        "print(prize)\n"
      ]
    },
    {
      "cell_type": "code",
      "execution_count": null,
      "metadata": {
        "id": "Yny9b7ayleLH",
        "outputId": "296d0610-a39f-4572-eb81-788a9ef1d605"
      },
      "outputs": [
        {
          "name": "stdout",
          "output_type": "stream",
          "text": [
            "1200\n"
          ]
        }
      ],
      "source": [
        "prize = 1200\n",
        "print(prize)"
      ]
    },
    {
      "cell_type": "markdown",
      "metadata": {
        "id": "y7oTCq6PleLN"
      },
      "source": [
        "# floats\n",
        "per = 12.5\n",
        "print(per)"
      ]
    },
    {
      "cell_type": "markdown",
      "metadata": {
        "id": "mKJne1ouleLO"
      },
      "source": [
        "# boolean\n"
      ]
    },
    {
      "cell_type": "code",
      "execution_count": null,
      "metadata": {
        "id": "RGD3KwtOleLP",
        "outputId": "2e5cf7d8-00d2-4b27-958b-6f4cb3f446fa"
      },
      "outputs": [
        {
          "name": "stdout",
          "output_type": "stream",
          "text": [
            "0.0\n"
          ]
        }
      ],
      "source": [
        "bool_value = False\n",
        "float_value = float(bool_value)\n",
        "print(float_value)"
      ]
    },
    {
      "cell_type": "markdown",
      "metadata": {
        "id": "XCbgZ9c0leLS"
      },
      "source": [
        "# string"
      ]
    },
    {
      "cell_type": "code",
      "execution_count": null,
      "metadata": {
        "id": "c0zuWVWTleLV",
        "outputId": "96580b07-1cff-472f-d0e6-6a1a2f6ef2e5"
      },
      "outputs": [
        {
          "name": "stdout",
          "output_type": "stream",
          "text": [
            "aleem\n"
          ]
        }
      ],
      "source": [
        "name = 'aleem'\n",
        "print(name)"
      ]
    },
    {
      "cell_type": "markdown",
      "metadata": {
        "id": "09ff9IRzleLY"
      },
      "source": [
        "# string indexing"
      ]
    },
    {
      "cell_type": "code",
      "execution_count": null,
      "metadata": {
        "id": "N1x9tJjtleLa",
        "outputId": "c911ac42-43f1-4ad1-dd1b-41ccc85c054c"
      },
      "outputs": [
        {
          "name": "stdout",
          "output_type": "stream",
          "text": [
            "Hello, World!\n",
            " This is a new line.\n"
          ]
        }
      ],
      "source": [
        "my_string = \"Hello, World!\\n This is a new line.\"\n",
        "print(my_string)"
      ]
    },
    {
      "cell_type": "markdown",
      "metadata": {
        "id": "RHeW1SA0leLd"
      },
      "source": [
        "# Slicing"
      ]
    },
    {
      "cell_type": "code",
      "execution_count": null,
      "metadata": {
        "id": "gAAWQS3MleLe",
        "outputId": "26c28d60-4137-45bc-e1db-6c45d7886c43"
      },
      "outputs": [
        {
          "name": "stdout",
          "output_type": "stream",
          "text": [
            "[1, 2, 3, 4, 5]\n"
          ]
        }
      ],
      "source": [
        "my_list = [1, 2, 3, 4, 5]\n",
        "print(my_list[:])"
      ]
    },
    {
      "cell_type": "code",
      "execution_count": null,
      "metadata": {
        "id": "OuV_9nspleLh"
      },
      "outputs": [],
      "source": []
    }
  ],
  "metadata": {
    "kernelspec": {
      "display_name": "Python 3",
      "language": "python",
      "name": "python3"
    },
    "language_info": {
      "codemirror_mode": {
        "name": "ipython",
        "version": 3
      },
      "file_extension": ".py",
      "mimetype": "text/x-python",
      "name": "python",
      "nbconvert_exporter": "python",
      "pygments_lexer": "ipython3",
      "version": "3.6.5"
    },
    "colab": {
      "provenance": [],
      "toc_visible": true,
      "include_colab_link": true
    }
  },
  "nbformat": 4,
  "nbformat_minor": 0
}